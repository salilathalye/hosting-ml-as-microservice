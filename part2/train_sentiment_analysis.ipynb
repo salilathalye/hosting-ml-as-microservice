{
  "nbformat": 4,
  "nbformat_minor": 0,
  "metadata": {
    "anaconda-cloud": {},
    "kernelspec": {
      "display_name": "Python 3",
      "language": "python",
      "name": "python3"
    },
    "language_info": {
      "codemirror_mode": {
        "name": "ipython",
        "version": 2
      },
      "file_extension": ".py",
      "mimetype": "text/x-python",
      "name": "python",
      "nbconvert_exporter": "python",
      "pygments_lexer": "ipython2",
      "version": "2.7.3"
    },
    "pycharm": {
      "stem_cell": {
        "cell_type": "raw",
        "source": [],
        "metadata": {
          "collapsed": false
        }
      }
    },
    "colab": {
      "name": "train_sentiment_analysis.ipynb",
      "provenance": [],
      "collapsed_sections": []
    }
  },
  "cells": [
    {
      "cell_type": "markdown",
      "metadata": {
        "collapsed": false,
        "pycharm": {
          "name": "#%% md\n"
        },
        "id": "D-lNtlravDQF",
        "colab_type": "text"
      },
      "source": [
        "## Part 2: Training your own ML Model\n",
        "\n",
        "<a href=\"https://colab.research.google.com/github/peckjon/hosting-ml-as-microservice/blob/master/part2/train_sentiment_analysis.ipynb\" target=\"_parent\"><img src=\"https://colab.research.google.com/assets/colab-badge.svg\" alt=\"Open In Colab\"/></a>"
      ]
    },
    {
      "cell_type": "markdown",
      "metadata": {
        "id": "60Llik6QvDQH",
        "colab_type": "text"
      },
      "source": [
        "### Download corpuses\n",
        "\n",
        "We'll continue using the `movie_reviews` corpus to train our model. The `stopwords` corpus contains a [set of standard stopwords](https://gist.github.com/sebleier/554280) we'll want to remove from the input, and `punkt` is used for toneization in the [.words()](https://www.nltk.org/api/nltk.corpus.html#corpus-reader-functions) method of the corpus reader."
      ]
    },
    {
      "cell_type": "code",
      "metadata": {
        "pycharm": {
          "name": "#%%\n"
        },
        "id": "RHzCR6qHvDQH",
        "colab_type": "code",
        "colab": {}
      },
      "source": [
        "from nltk import download\n",
        "\n",
        "download('movie_reviews')\n",
        "download('punkt')\n",
        "download('stopwords')"
      ],
      "execution_count": 0,
      "outputs": []
    },
    {
      "cell_type": "markdown",
      "metadata": {
        "id": "k0m0Wy36vDQL",
        "colab_type": "text"
      },
      "source": [
        "### Define feature extractor and bag-of-words converter\n",
        "\n",
        "Given a list of (already tokenized) words, we need a function to extract just the ones we care about: those not found in the list of English stopwords or standard punctuation.\n",
        "\n",
        "We also need a way to easily turn a list of words into a [bag-of-words](https://en.wikipedia.org/wiki/Bag-of-words_model), pairing each word with the count of its occurrences."
      ]
    },
    {
      "cell_type": "code",
      "metadata": {
        "id": "-gorPrS2vDQL",
        "colab_type": "code",
        "colab": {}
      },
      "source": [
        "from nltk.corpus import stopwords\n",
        "from string import punctuation\n",
        "\n",
        "stopwords_eng = stopwords.words('english')\n",
        "\n",
        "def extract_features(words: list) -> list:\n",
        "  \"\"\" extract_features\n",
        "  Params:\n",
        "    words: list of words\n",
        "\n",
        "  Returns:\n",
        "    list of words excluding english stopwoards and punctuation\n",
        "  \"\"\"\n",
        "  return [w for w in words if w not in stopwords_eng and w not in punctuation]\n",
        "\n",
        "def bag_of_words(words: list) -> dict:\n",
        "  \"\"\" bag_of_words\n",
        "  Params:\n",
        "    words: list of words\n",
        "\n",
        "  Returns:\n",
        "    dict with key = word, value = count\n",
        "  \"\"\"\n",
        "  bag = {}\n",
        "  for w in words:\n",
        "    bag[w] = bag.get(w,0)+1\n",
        "  return bag"
      ],
      "execution_count": 0,
      "outputs": []
    },
    {
      "cell_type": "markdown",
      "metadata": {
        "id": "qBzDWw2LvDQQ",
        "colab_type": "text"
      },
      "source": [
        "### Ingest, clean, and convert the positive and negative reviews\n",
        "\n",
        "For both the positive (\"pos\") and negative (\"neg\") sets of reviews, extract the features and convert to bag of words. From these, we construct a list of tuples known as a \"featureset\": the first part of each tuple is the bag of words for that review, and the second is its label (\"pos\"/\"neg\").\n",
        "\n",
        "Note that `movie_reviews.words(fileid)` provides a tokenized list of words. If we wanted the un-tokenized text, we would use `movie_reviews.raw(fileid)` instead, then tokenize it using our preferred tokenizeer (e.g. [nltk.tokenize.word_tokenize](https://www.nltk.org/api/nltk.tokenize.html#nltk.tokenize.punkt.PunktLanguageVars.word_tokenize))."
      ]
    },
    {
      "cell_type": "code",
      "metadata": {
        "id": "xmuwcemnvDQR",
        "colab_type": "code",
        "colab": {}
      },
      "source": [
        "from nltk.corpus import movie_reviews\n",
        "\n",
        "reviews_pos = []\n",
        "reviews_neg = []\n",
        "for fileid in movie_reviews.fileids('pos'):\n",
        "    words = extract_features(movie_reviews.words(fileid))\n",
        "    reviews_pos.append((bag_of_words(words), 'pos'))\n",
        "for fileid in movie_reviews.fileids('neg'):\n",
        "    words = extract_features(movie_reviews.words(fileid))\n",
        "    reviews_neg.append((bag_of_words(words), 'neg'))"
      ],
      "execution_count": 0,
      "outputs": []
    },
    {
      "cell_type": "markdown",
      "metadata": {
        "id": "vHpwVk6_vDQU",
        "colab_type": "text"
      },
      "source": [
        "### Split reviews into training and test sets\n",
        "We need to break up each group of reviews into a training set (about 80%) and a test set (the remaining 20%). In case there's some meaningful order to the reviews (e.g. the first 800 are from one group of reviewers, the next 200 are from another), we shuffle the sets first to ensure we aren't introducing additional bias. Note that this means our accuracy will not be exactly the same on every run; if you wish to see consistent results on each run, you can stabilize the shuffle by calling [random.seed(n)](https://www.geeksforgeeks.org/random-seed-in-python/) first."
      ]
    },
    {
      "cell_type": "code",
      "metadata": {
        "id": "a3ynw1yavDQV",
        "colab_type": "code",
        "colab": {}
      },
      "source": [
        "import random\n",
        "from random import shuffle\n",
        "\n",
        "random.seed(90210)\n",
        "split_pct = .80\n",
        "\n",
        "def split_set(review_set):\n",
        "    split = int(len(review_set)*split_pct)\n",
        "    return (review_set[:split], review_set[split:])\n",
        "\n",
        "shuffle(reviews_pos)\n",
        "shuffle(reviews_neg)\n",
        "\n",
        "pos_train, pos_test = split_set(reviews_pos)\n",
        "neg_train, neg_test = split_set(reviews_neg)\n",
        "\n",
        "train_set = pos_train+neg_train\n",
        "test_set = pos_test+neg_test"
      ],
      "execution_count": 0,
      "outputs": []
    },
    {
      "cell_type": "markdown",
      "metadata": {
        "id": "2NHG3u4AGZPI",
        "colab_type": "text"
      },
      "source": [
        "The reviews_pos and reviews_neg structures is a tuple containing two elements: the first is the dictionary containing words as keys their count of occurences as the value.\n",
        "The second element is a string {'pos','neg'} containing the ground truth sentiment."
      ]
    },
    {
      "cell_type": "code",
      "metadata": {
        "id": "tfwIPMWMAU89",
        "colab_type": "code",
        "colab": {}
      },
      "source": [
        "print(f\"First element of tuple is: {type(reviews_pos[0][0])}\")\n",
        "print(f\"Second element of tuple is: {type(reviews_pos[0][1])}\")"
      ],
      "execution_count": 0,
      "outputs": []
    },
    {
      "cell_type": "markdown",
      "metadata": {
        "id": "hFIwjlP1HJoA",
        "colab_type": "text"
      },
      "source": [
        "train_set is a list of tuples. Each tuple contains a dict where the key is the word and value is the count of occurences. train_set has the same structure as train_set"
      ]
    },
    {
      "cell_type": "code",
      "metadata": {
        "id": "REgnhGy3HP8o",
        "colab_type": "code",
        "colab": {}
      },
      "source": [
        "print(f\"{type(test_set[0][0])}\")\n",
        "print(f\"{type(test_set[0][1])}\")"
      ],
      "execution_count": 0,
      "outputs": []
    },
    {
      "cell_type": "markdown",
      "metadata": {
        "id": "xATw4xB1vDQY",
        "colab_type": "text"
      },
      "source": [
        "### Train the model\n",
        "\n",
        "Now that our data is ready, the training step itself is quite simple if we use the [NaiveBayesClassifier](https://www.nltk.org/api/nltk.classify.html#module-nltk.classify.naivebayes) provided by NLTK.\n",
        "\n",
        "If you are used to methods such as `model.fit(x,y)` which take two parameters -- the data and the labels -- it may be confusing that `NaiveBayesClassifier.train` takes just one argument. This is because the labels are already embedded in `train_set`: each element in the set is a Bag of Words paired with a 'pos' or 'neg'; value."
      ]
    },
    {
      "cell_type": "code",
      "metadata": {
        "id": "1qpaocVLvDQZ",
        "colab_type": "code",
        "colab": {}
      },
      "source": [
        "from nltk.classify import NaiveBayesClassifier\n",
        "\n",
        "model = NaiveBayesClassifier.train(train_set)"
      ],
      "execution_count": 0,
      "outputs": []
    },
    {
      "cell_type": "code",
      "metadata": {
        "id": "MAX7NjqTvF7j",
        "colab_type": "code",
        "colab": {}
      },
      "source": [
        "from nltk.classify.util import accuracy\n",
        "def evaluate(train_set, test_set, classifier):\n",
        "  print (\"Accuracy on the training set = \" +  str(accuracy(model, train_set)))\n",
        "  print (\"Accuracy of the test set = \" + str(accuracy(model, test_set)))   \n",
        "  model.show_most_informative_features(50)\n",
        "  \n",
        "evaluate(train_set, test_set, model)"
      ],
      "execution_count": 0,
      "outputs": []
    },
    {
      "cell_type": "markdown",
      "metadata": {
        "id": "4ROJFAD0vDQd",
        "colab_type": "text"
      },
      "source": [
        "### Check model accuracy\n",
        "\n",
        "NLTK's built-in [accuracy](https://www.nltk.org/api/nltk.classify.html#module-nltk.classify.util) utility can run our test_set through the model and compare the labels returned by the model to the labels in the test set, producing an overall % accuracy. Not too impressive, right? We need to improve."
      ]
    },
    {
      "cell_type": "code",
      "metadata": {
        "id": "XIV1geqkvDQd",
        "colab_type": "code",
        "colab": {}
      },
      "source": [
        "from nltk.classify.util import accuracy\n",
        "\n",
        "print(100 * accuracy(model, test_set))"
      ],
      "execution_count": 0,
      "outputs": []
    },
    {
      "cell_type": "markdown",
      "metadata": {
        "id": "LuO21RicPOVA",
        "colab_type": "text"
      },
      "source": [
        "# Improve Model Performance\n"
      ]
    },
    {
      "cell_type": "markdown",
      "metadata": {
        "id": "NEkFwh_fJE0O",
        "colab_type": "text"
      },
      "source": [
        "Extract the top N most informative features"
      ]
    },
    {
      "cell_type": "code",
      "metadata": {
        "id": "QuvTuaPFJREE",
        "colab_type": "code",
        "colab": {}
      },
      "source": [
        "# most_important_features returns a tuple for each item, containing the word\n",
        "# and its occurence count. Here we only are interested in the word so we\n",
        "# can build a list of important words.\n",
        "important_features = [w for (w, c) in model.most_informative_features(n=250)]\n"
      ],
      "execution_count": 0,
      "outputs": []
    },
    {
      "cell_type": "code",
      "metadata": {
        "id": "XiY7pP70LB6S",
        "colab_type": "code",
        "colab": {}
      },
      "source": [
        "def extract_important_features(words: list, important_features: list) -> list:\n",
        "  \"\"\" extract_important_features\n",
        "  Params:\n",
        "    words: list of words\n",
        "    important_features: list of important feature words\n",
        "\n",
        "  Returns:\n",
        "    list of words excluding english stopwords and punctuation and\n",
        "    including important features\n",
        "  \"\"\"\n",
        "  return [w for w in words if w not in stopwords_eng and w not in punctuation and w in important_features]"
      ],
      "execution_count": 0,
      "outputs": []
    },
    {
      "cell_type": "code",
      "metadata": {
        "id": "ix01oIYXLSHa",
        "colab_type": "code",
        "colab": {}
      },
      "source": [
        "from nltk.corpus import movie_reviews\n",
        "\n",
        "reviews_pos = []\n",
        "reviews_neg = []\n",
        "for fileid in movie_reviews.fileids('pos'):\n",
        "    words = extract_important_features(movie_reviews.words(fileid), important_features)\n",
        "    reviews_pos.append((bag_of_words(words), 'pos'))\n",
        "for fileid in movie_reviews.fileids('neg'):\n",
        "    words = extract_important_features(movie_reviews.words(fileid), important_features)\n",
        "    reviews_neg.append((bag_of_words(words), 'neg'))"
      ],
      "execution_count": 0,
      "outputs": []
    },
    {
      "cell_type": "code",
      "metadata": {
        "id": "Yuwz2agULpfT",
        "colab_type": "code",
        "colab": {}
      },
      "source": [
        "shuffle(reviews_pos)\n",
        "shuffle(reviews_neg)\n",
        "\n",
        "pos_train, pos_test = split_set(reviews_pos)\n",
        "neg_train, neg_test = split_set(reviews_neg)\n",
        "\n",
        "train_set = pos_train+neg_train\n",
        "test_set = pos_test+neg_test"
      ],
      "execution_count": 0,
      "outputs": []
    },
    {
      "cell_type": "code",
      "metadata": {
        "id": "Fdo3hYPOL0Is",
        "colab_type": "code",
        "colab": {}
      },
      "source": [
        "model2 = NaiveBayesClassifier.train(train_set)"
      ],
      "execution_count": 0,
      "outputs": []
    },
    {
      "cell_type": "code",
      "metadata": {
        "id": "4tqMJu5yMCUV",
        "colab_type": "code",
        "colab": {}
      },
      "source": [
        "evaluate(train_set, test_set, model2)"
      ],
      "execution_count": 0,
      "outputs": []
    },
    {
      "cell_type": "markdown",
      "metadata": {
        "id": "g0Sm_Y8CvDQi",
        "colab_type": "text"
      },
      "source": [
        "### Save the model\n",
        "Our trained model will be cleared from memory when this notebook is closed. So that we can use it again later, save the model as a file using the [pickle](https://docs.python.org/3/library/pickle.html) serializer."
      ]
    },
    {
      "cell_type": "code",
      "metadata": {
        "pycharm": {
          "name": "#%%\n"
        },
        "id": "EvmsaEYcvDQi",
        "colab_type": "code",
        "colab": {}
      },
      "source": [
        "import pickle\n",
        "\n",
        "model_file = open('sa_classifier.pickle','wb')\n",
        "pickle.dump(model, model_file)\n",
        "model_file.close()"
      ],
      "execution_count": 0,
      "outputs": []
    },
    {
      "cell_type": "markdown",
      "metadata": {
        "id": "FlgGE4ywvDQl",
        "colab_type": "text"
      },
      "source": [
        "### Save the model (Colab version)\n",
        "\n",
        "Google Colab doesn't provide direct access to files saved during a notebook session, so we need to save it in [Google Drive](https://drive.google.com) instead. The first time you run this, it will ask for permission to access your Google Drive. Follow the instructions, then wait a few minutes and look for a new folder called \"Colab Output\" in [Drive](https://drive.google.com). Note that Colab does not alway sync to Drive immediately, so check the file update times and re-run this cell if it doesn't look like you have the most revent version of your file."
      ]
    },
    {
      "cell_type": "code",
      "metadata": {
        "id": "NUTMSElqvDQl",
        "colab_type": "code",
        "colab": {}
      },
      "source": [
        "import sys\n",
        "if 'google.colab' in sys.modules:\n",
        "    from google.colab import drive\n",
        "    drive.mount('/content/gdrive')\n",
        "    !mkdir -p '/content/gdrive/My Drive/Colab Output'\n",
        "    model_file = open('/content/gdrive/My Drive/Colab Output/sa_classifier.pickle','wb')\n",
        "    pickle.dump(model, model_file)\n",
        "    model_file.flush()\n",
        "    print('Model saved in /content/gdrive/My Drive/Colab Output')\n",
        "    !ls '/content/gdrive/My Drive/Colab Output'\n",
        "    drive.flush_and_unmount()\n",
        "    print('Re-run this cell if you cannot find it in https://drive.google.com')"
      ],
      "execution_count": 0,
      "outputs": []
    }
  ]
}